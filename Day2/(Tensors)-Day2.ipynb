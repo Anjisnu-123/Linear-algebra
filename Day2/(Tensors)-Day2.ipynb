{
 "cells": [
  {
   "cell_type": "markdown",
   "id": "e15ec2d1-4c86-4545-bba2-fbb8d805d787",
   "metadata": {
    "jp-MarkdownHeadingCollapsed": true
   },
   "source": [
    "## Projection of v2 in v1"
   ]
  },
  {
   "cell_type": "code",
   "execution_count": 24,
   "id": "b86436f5-85f4-47cb-ba55-88258944bd8d",
   "metadata": {},
   "outputs": [],
   "source": [
    "import numpy as np"
   ]
  },
  {
   "cell_type": "code",
   "execution_count": 25,
   "id": "7690cb1d-cc4a-4f38-a1f3-ccfa8872c954",
   "metadata": {},
   "outputs": [
    {
     "name": "stdout",
     "output_type": "stream",
     "text": [
      "Hello world\n"
     ]
    }
   ],
   "source": [
    "print(\"Hello world\")"
   ]
  },
  {
   "cell_type": "code",
   "execution_count": 26,
   "id": "22332e66-4afa-4259-a093-a0df354b5b44",
   "metadata": {},
   "outputs": [],
   "source": [
    "v1=np.array([1,2,3])\n",
    "v2=np.array([4,5,6])"
   ]
  },
  {
   "cell_type": "code",
   "execution_count": 27,
   "id": "2d68488b-b7d7-44f4-a180-a117b0e6d31d",
   "metadata": {},
   "outputs": [],
   "source": [
    "ans=np.dot(v1,v2)"
   ]
  },
  {
   "cell_type": "code",
   "execution_count": 28,
   "id": "102c17ad-f9ae-4217-8ace-de39da9d4a66",
   "metadata": {},
   "outputs": [
    {
     "data": {
      "text/plain": [
       "32"
      ]
     },
     "execution_count": 28,
     "metadata": {},
     "output_type": "execute_result"
    }
   ],
   "source": [
    "ans"
   ]
  },
  {
   "cell_type": "code",
   "execution_count": 29,
   "id": "f9a8d52e-e162-4b2f-a9a4-22db72f33527",
   "metadata": {},
   "outputs": [],
   "source": [
    "mod=np.sqrt(np.dot(v1,v1))"
   ]
  },
  {
   "cell_type": "code",
   "execution_count": 30,
   "id": "102dee09-dcc2-4063-b6e1-e786defab89e",
   "metadata": {},
   "outputs": [],
   "source": [
    "ans=ans/(mod*v1)"
   ]
  },
  {
   "cell_type": "code",
   "execution_count": 31,
   "id": "d0ef9920-d023-4d6c-b787-1e949224a50a",
   "metadata": {},
   "outputs": [
    {
     "data": {
      "text/plain": [
       "array([8.55235974, 4.27617987, 2.85078658])"
      ]
     },
     "execution_count": 31,
     "metadata": {},
     "output_type": "execute_result"
    }
   ],
   "source": [
    "ans"
   ]
  },
  {
   "cell_type": "markdown",
   "id": "303eabfa-d1ae-4748-886e-844977b5dfab",
   "metadata": {
    "jp-MarkdownHeadingCollapsed": true
   },
   "source": [
    "## Linear Independence Of 3 vctors\n"
   ]
  },
  {
   "cell_type": "code",
   "execution_count": 42,
   "id": "b87b8d3b-9449-404d-828e-0a1eab9fa0ff",
   "metadata": {},
   "outputs": [],
   "source": [
    "vec=np.array([[1,2,3],[4,5,6],[7,8,9]])\n"
   ]
  },
  {
   "cell_type": "code",
   "execution_count": 48,
   "id": "49d79534-6df5-440d-9ec0-5d4ec0c6266a",
   "metadata": {},
   "outputs": [
    {
     "data": {
      "text/plain": [
       "array([[1, 2, 3],\n",
       "       [4, 5, 6],\n",
       "       [7, 8, 9]])"
      ]
     },
     "execution_count": 48,
     "metadata": {},
     "output_type": "execute_result"
    }
   ],
   "source": [
    "vec"
   ]
  },
  {
   "cell_type": "code",
   "execution_count": 49,
   "id": "194016cc-b48f-445d-a39c-78512731fa09",
   "metadata": {},
   "outputs": [],
   "source": [
    "ans=np.linalg.matrix_rank(vec)"
   ]
  },
  {
   "cell_type": "code",
   "execution_count": 44,
   "id": "573a415a-3bb0-4f92-b1c0-9aab0de924f8",
   "metadata": {},
   "outputs": [],
   "source": [
    "lol=len(vec)"
   ]
  },
  {
   "cell_type": "code",
   "execution_count": 45,
   "id": "75c43d77-70ff-4ba9-bc14-e12e54154d8a",
   "metadata": {},
   "outputs": [
    {
     "data": {
      "text/plain": [
       "3"
      ]
     },
     "execution_count": 45,
     "metadata": {},
     "output_type": "execute_result"
    }
   ],
   "source": [
    "lol"
   ]
  },
  {
   "cell_type": "code",
   "execution_count": 52,
   "id": "6deee8f1-80e4-4f08-a845-cef737c81e9c",
   "metadata": {},
   "outputs": [],
   "source": [
    "det=np.linalg.det(vec)"
   ]
  },
  {
   "cell_type": "markdown",
   "id": "df821a94-b36d-4dee-a376-2670d789049e",
   "metadata": {
    "jp-MarkdownHeadingCollapsed": true
   },
   "source": [
    "## Check orthogonality"
   ]
  },
  {
   "cell_type": "code",
   "execution_count": 59,
   "id": "ef5d48d2-c297-4e5c-9fe3-3bb807508e64",
   "metadata": {},
   "outputs": [],
   "source": [
    "q=np.array([[4,-2,7],[-11,3,9],[2,8,7]])"
   ]
  },
  {
   "cell_type": "code",
   "execution_count": 60,
   "id": "acf58317-57c3-4313-ac7e-710717d4e2d4",
   "metadata": {},
   "outputs": [],
   "source": [
    "q_trans=q.T"
   ]
  },
  {
   "cell_type": "code",
   "execution_count": 65,
   "id": "709574cf-0003-4131-aa59-7f706835073a",
   "metadata": {},
   "outputs": [],
   "source": [
    "res=np.dot(q,q.T)"
   ]
  },
  {
   "cell_type": "code",
   "execution_count": 69,
   "id": "b90f8a08-4d5b-4046-ba05-ab4cdd1353de",
   "metadata": {},
   "outputs": [],
   "source": [
    "flag=np.identity(len(q))"
   ]
  },
  {
   "cell_type": "code",
   "execution_count": 71,
   "id": "ccb30049-350b-419b-a6db-4ebe9cad5f99",
   "metadata": {},
   "outputs": [
    {
     "name": "stdout",
     "output_type": "stream",
     "text": [
      "Bye\n"
     ]
    }
   ],
   "source": [
    "if(np.allclose(res,flag)):\n",
    "    print(\"Orthogonal\")\n",
    "else:\n",
    "    print(\"Bye\")"
   ]
  },
  {
   "cell_type": "markdown",
   "id": "a5267cba-5126-4f4f-b60c-f706c5f7665e",
   "metadata": {
    "jp-MarkdownHeadingCollapsed": true
   },
   "source": [
    "## Solve the system of equn"
   ]
  },
  {
   "cell_type": "code",
   "execution_count": 72,
   "id": "2630a272-1252-4173-9255-fef04be419e8",
   "metadata": {},
   "outputs": [],
   "source": [
    "v1=np.array([[3,1,7],[1,2,2],[9,3,4]])"
   ]
  },
  {
   "cell_type": "code",
   "execution_count": 73,
   "id": "2c9b46b8-87ce-4f82-9549-ffb1a42fb2c2",
   "metadata": {},
   "outputs": [],
   "source": [
    "values=np.array([9,8,11])"
   ]
  },
  {
   "cell_type": "code",
   "execution_count": 77,
   "id": "32ed7145-89dc-4cc3-99d4-d107b345bfbc",
   "metadata": {},
   "outputs": [
    {
     "data": {
      "text/plain": [
       "array([-0.25882353,  3.18823529,  0.94117647])"
      ]
     },
     "execution_count": 77,
     "metadata": {},
     "output_type": "execute_result"
    }
   ],
   "source": [
    "np.linalg.solve(v1,values)"
   ]
  },
  {
   "cell_type": "markdown",
   "id": "7ae91735-f359-4f4c-a4c5-74674481c119",
   "metadata": {
    "jp-MarkdownHeadingCollapsed": true
   },
   "source": [
    "## using user defined function"
   ]
  },
  {
   "cell_type": "code",
   "execution_count": 78,
   "id": "47c9f2f2-f726-4681-931c-6a43452a121d",
   "metadata": {},
   "outputs": [],
   "source": [
    "a=np.array([[2,4,2],[3,9,11],[8,16,8]])"
   ]
  },
  {
   "cell_type": "code",
   "execution_count": 91,
   "id": "41beff15-8973-41e8-9597-d5a364e004b0",
   "metadata": {},
   "outputs": [],
   "source": [
    "def inverse(a):\n",
    "    if(np.linalg.det(a) !=0):\n",
    "        identity=np.identity(len(a))\n",
    "        inverse_a=identity/a\n",
    "        print(inverse_a)\n",
    "    print(\"NOt possible as det is 0\")"
   ]
  },
  {
   "cell_type": "code",
   "execution_count": 92,
   "id": "710f04ac-62ce-4c13-b086-bbea45bb7914",
   "metadata": {},
   "outputs": [
    {
     "name": "stdout",
     "output_type": "stream",
     "text": [
      "NOt possible as det is 0\n"
     ]
    }
   ],
   "source": [
    "inverse(a)"
   ]
  },
  {
   "cell_type": "code",
   "execution_count": 93,
   "id": "d92911e5-ee9b-404c-b1b9-5156bc01c49d",
   "metadata": {},
   "outputs": [],
   "source": [
    "rank_of_a=np.linalg.matrix_rank(a)"
   ]
  },
  {
   "cell_type": "code",
   "execution_count": 94,
   "id": "45953692-296d-4aff-bd84-906495507161",
   "metadata": {},
   "outputs": [
    {
     "data": {
      "text/plain": [
       "2"
      ]
     },
     "execution_count": 94,
     "metadata": {},
     "output_type": "execute_result"
    }
   ],
   "source": [
    "rank_of_a"
   ]
  },
  {
   "cell_type": "markdown",
   "id": "12cdf127-805f-480a-b0ab-dc92bdacf79c",
   "metadata": {
    "jp-MarkdownHeadingCollapsed": true
   },
   "source": [
    "## Cosine angle"
   ]
  },
  {
   "cell_type": "code",
   "execution_count": 96,
   "id": "f00b84dd-1f2f-439a-ab92-9f1498a02ba0",
   "metadata": {},
   "outputs": [],
   "source": [
    "v1=np.array([1,2,3])"
   ]
  },
  {
   "cell_type": "code",
   "execution_count": 97,
   "id": "ef2679f3-060f-4f90-a25f-bc3ac3492fb1",
   "metadata": {},
   "outputs": [],
   "source": [
    "v2=np.array([4,5,6])"
   ]
  },
  {
   "cell_type": "code",
   "execution_count": 98,
   "id": "e0c8c5bd-5acd-4afd-a2f3-cb96a9d65908",
   "metadata": {},
   "outputs": [],
   "source": [
    "mod_v1=(np.dot(v1,v1))"
   ]
  },
  {
   "cell_type": "code",
   "execution_count": 99,
   "id": "c2df2582-d987-4827-a684-dac56d96962b",
   "metadata": {},
   "outputs": [],
   "source": [
    "mod_v2=np.dot(v2,v2)"
   ]
  },
  {
   "cell_type": "code",
   "execution_count": 104,
   "id": "5e897ea4-1084-4784-9c90-289f207f292d",
   "metadata": {},
   "outputs": [],
   "source": [
    "mod=np.sqrt(mod_v1*mod_v2)"
   ]
  },
  {
   "cell_type": "code",
   "execution_count": 105,
   "id": "55c02948-b3a6-4518-979e-03fae6f74375",
   "metadata": {},
   "outputs": [
    {
     "data": {
      "text/plain": [
       "32.83291031876401"
      ]
     },
     "execution_count": 105,
     "metadata": {},
     "output_type": "execute_result"
    }
   ],
   "source": [
    "mod"
   ]
  },
  {
   "cell_type": "code",
   "execution_count": 106,
   "id": "cac210d9-e30b-4739-91b6-73b3db53262f",
   "metadata": {},
   "outputs": [],
   "source": [
    "cosine= np.dot(v1,v2)/mod"
   ]
  },
  {
   "cell_type": "code",
   "execution_count": 107,
   "id": "e95b9f77-9389-4370-a82e-55bc48ecb9a1",
   "metadata": {},
   "outputs": [
    {
     "data": {
      "text/plain": [
       "0.9746318461970762"
      ]
     },
     "execution_count": 107,
     "metadata": {},
     "output_type": "execute_result"
    }
   ],
   "source": [
    "cosine"
   ]
  },
  {
   "cell_type": "markdown",
   "id": "f3ebae90-858d-40a0-aeb8-f0d6c29f3f39",
   "metadata": {
    "jp-MarkdownHeadingCollapsed": true
   },
   "source": [
    "## Cross product"
   ]
  },
  {
   "cell_type": "code",
   "execution_count": 113,
   "id": "01f72f8d-7027-45b9-a224-5f94da85adcb",
   "metadata": {},
   "outputs": [],
   "source": [
    "def cross_product(v1,v2):\n",
    "    sin=np.sqrt(1-cosine*cosine)\n",
    "    ans=mod*sin\n",
    "    print(ans)"
   ]
  },
  {
   "cell_type": "code",
   "execution_count": 114,
   "id": "7b2b88b5-eb82-4d2a-933d-5ab61ea7d0ee",
   "metadata": {},
   "outputs": [
    {
     "name": "stdout",
     "output_type": "stream",
     "text": [
      "7.348469228349542\n"
     ]
    }
   ],
   "source": [
    "cross_product(v1,v2)"
   ]
  },
  {
   "cell_type": "markdown",
   "id": "62357209-e299-44e3-995b-0f5d4b25f90a",
   "metadata": {},
   "source": [
    "## New Question"
   ]
  },
  {
   "cell_type": "code",
   "execution_count": null,
   "id": "d968384e-a94e-4879-8806-d2ad797cbdfe",
   "metadata": {},
   "outputs": [],
   "source": []
  },
  {
   "cell_type": "code",
   "execution_count": null,
   "id": "e8ba8a52-36e5-4902-861b-d0f6da27ed3a",
   "metadata": {},
   "outputs": [],
   "source": []
  }
 ],
 "metadata": {
  "kernelspec": {
   "display_name": "Python 3 (ipykernel)",
   "language": "python",
   "name": "python3"
  },
  "language_info": {
   "codemirror_mode": {
    "name": "ipython",
    "version": 3
   },
   "file_extension": ".py",
   "mimetype": "text/x-python",
   "name": "python",
   "nbconvert_exporter": "python",
   "pygments_lexer": "ipython3",
   "version": "3.12.4"
  }
 },
 "nbformat": 4,
 "nbformat_minor": 5
}
